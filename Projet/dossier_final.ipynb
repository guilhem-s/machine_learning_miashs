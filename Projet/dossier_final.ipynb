{
 "cells": [
  {
   "cell_type": "code",
   "execution_count": 2,
   "metadata": {},
   "outputs": [],
   "source": [
    "import pandas as pd\n",
    "import numpy as np\n",
    "from matplotlib import pyplot as plt\n",
    "import seaborn as sns\n",
    "from sklearn.preprocessing import LabelEncoder, OneHotEncoder, StandardScaler\n",
    "from sklearn.tree import DecisionTreeClassifier, plot_tree\n",
    "from sklearn.model_selection import train_test_split, GridSearchCV, cross_val_score, KFold\n",
    "from sklearn.metrics import accuracy_score, precision_score, recall_score, classification_report\n",
    "from sklearn.linear_model import LogisticRegression\n",
    "from sklearn.neighbors import KNeighborsClassifier\n",
    "from sklearn.ensemble import RandomForestClassifier\n",
    "from sklearn.naive_bayes import GaussianNB, CategoricalNB\n",
    "from sklearn.inspection import permutation_importance\n",
    "from sklearn.compose import make_column_selector, make_column_transformer, ColumnTransformer\n",
    "from sklearn.pipeline import make_pipeline\n",
    "from sklearn.impute import SimpleImputer"
   ]
  },
  {
   "cell_type": "code",
   "execution_count": 49,
   "metadata": {},
   "outputs": [
    {
     "name": "stdout",
     "output_type": "stream",
     "text": [
      "(25697, 22) (5000, 22)\n"
     ]
    }
   ],
   "source": [
    "X = pd.read_csv(\"../Datasets/kobe.csv\")\n",
    "minutes = X[\"minutes_remaining\"].values\n",
    "secondes = X[\"seconds_remaining\"].values\n",
    "temps_restant = pd.Series((minutes*60 + secondes), name=\"temps_restant\")\n",
    "X = pd.concat([X, temps_restant], axis=1)\n",
    "X = X.drop([ 'team_id', \"minutes_remaining\", \"seconds_remaining\"], axis=1)\n",
    "y = X[\"shot_made_flag\"].dropna()\n",
    "\n",
    "missing_shots_data = X[X['shot_made_flag'].isnull()]\n",
    "X = X.dropna().drop(['shot_made_flag'], axis=1)\n",
    "missing_shots_data = missing_shots_data.drop(['shot_made_flag'], axis=1)\n",
    "print(X.shape, missing_shots_data.shape)\n",
    "\n",
    "feature_names = np.array(X.columns)"
   ]
  },
  {
   "cell_type": "code",
   "execution_count": 50,
   "metadata": {},
   "outputs": [
    {
     "data": {
      "text/plain": [
       "(25697,)"
      ]
     },
     "execution_count": 50,
     "metadata": {},
     "output_type": "execute_result"
    }
   ],
   "source": [
    "y.shape"
   ]
  },
  {
   "cell_type": "code",
   "execution_count": 51,
   "metadata": {},
   "outputs": [],
   "source": [
    "def process_label(X):\n",
    "    # Séparation des colonnes en variables quantitatives et catégorielles\n",
    "    numerical_cols = X.select_dtypes(include=['float64', 'int64']).columns\n",
    "    categorical_cols = X.select_dtypes(include=['object']).columns\n",
    "    \n",
    "    # Standardisation des variables quantitatives\n",
    "    scaler = StandardScaler()\n",
    "    X[numerical_cols] = scaler.fit_transform(X[numerical_cols])\n",
    "    \n",
    "    # Label Encoder pour les variables catégorielles\n",
    "    for col in categorical_cols:\n",
    "        label_encoder = LabelEncoder()\n",
    "        X[col] = label_encoder.fit_transform(X[col])\n",
    "    \n",
    "    return X"
   ]
  },
  {
   "cell_type": "code",
   "execution_count": 52,
   "metadata": {},
   "outputs": [],
   "source": [
    "def importance(X, y, feature_names):\n",
    "    \n",
    "    # 0. Preprocess X pour les rentrer dans le label\n",
    "    X_label = process_label(X)\n",
    "    \n",
    "    # Créer un modèle d'arbre de décision\n",
    "    decision_tree = DecisionTreeClassifier()\n",
    "\n",
    "    grid_search_cv = GridSearchCV(estimator=decision_tree,\n",
    "                              param_grid={\"criterion\": [\"gini\", \"entropy\", 'log_loss'],\n",
    "                                         \"max_features\": range(1, 10, 1),\n",
    "                                         \"max_depth\": range(1, 10, 1)})\n",
    "    grid_search_cv.fit(X_label, y)\n",
    "    print(f\"Best parameters: {grid_search_cv.best_params_}\")\n",
    "    best_params = grid_search_cv.best_params_\n",
    "\n",
    "    # Fit tree using best params\n",
    "    decision_tree_optimized = DecisionTreeClassifier(**best_params)\n",
    "    decision_tree_optimized.fit(X_label, y)\n",
    "\n",
    "    # Afficher les variables les plus importantes\n",
    "    importances = decision_tree_optimized.feature_importances_\n",
    "\n",
    "    return importances"
   ]
  },
  {
   "cell_type": "code",
   "execution_count": 53,
   "metadata": {},
   "outputs": [],
   "source": [
    "def filter_correlated_features(df, threshold=0.9):\n",
    "    \"\"\"\n",
    "    Cette fonction prend un DataFrame et un seuil de corrélation en entrée,\n",
    "    puis filtre les features corrélés à plus de ce seuil.\n",
    "\n",
    "    Args:\n",
    "        df (DataFrame): Le DataFrame contenant les données.\n",
    "        threshold (float): Le seuil de corrélation à utiliser. Par défaut 0.9.\n",
    "\n",
    "    Returns:\n",
    "        DataFrame: Le DataFrame avec les features non corrélés.\n",
    "    \"\"\"\n",
    "\n",
    "    # 0. Encoder les variables si nécessaire \n",
    "    df_encoded = process_label(df)\n",
    "    # 1. Calculer la matrice de corrélation\n",
    "    correlation_matrix = df_encoded.corr()\n",
    "\n",
    "    # 2. Identifier les paires de variables corrélées\n",
    "    correlated_features = set()\n",
    "    correlated_pairs = []\n",
    "    for i in range(len(correlation_matrix.columns)):\n",
    "        for j in range(i):\n",
    "            if abs(correlation_matrix.iloc[i, j]) > threshold:\n",
    "                colname_i = correlation_matrix.columns[i]\n",
    "                colname_j = correlation_matrix.columns[j]\n",
    "                correlation_score = correlation_matrix.iloc[i, j]\n",
    "                correlated_features.add(colname_i)\n",
    "                correlated_pairs.append((colname_i, colname_j, correlation_score))\n",
    "\n",
    "    # Afficher les colonnes supprimées et leurs corrélations\n",
    "    if correlated_pairs:\n",
    "        print(\"Colonnes supprimées et leurs corrélations:\")\n",
    "        for pair in correlated_pairs:\n",
    "            print(f\"{pair[0]} - {pair[1]} : {pair[2]}\")\n",
    "\n",
    "    # 3. Supprimer les features corrélés\n",
    "    filtered_df = df_encoded.drop(columns=correlated_features)\n",
    "\n",
    "    return filtered_df.columns\n"
   ]
  },
  {
   "cell_type": "code",
   "execution_count": 59,
   "metadata": {},
   "outputs": [],
   "source": [
    "def apprentissage(nom_modele, X, y, feature_names,seuil = 0.02):\n",
    "\n",
    "    modele = {\"knn\": [KNeighborsClassifier, {'kneighborsclassifier__n_neighbors': range(1,101,10), 'kneighborsclassifier__weights': ['uniform', 'distance'], 'kneighborsclassifier__p': [1, 2]}],\n",
    "              \"logisticregression\": [LogisticRegression, {'logisticregression__C': [0.001, 0.01, 0.1, 1, 10, 100], 'logisticregression__penalty': ['l1', 'l2']}],\n",
    "              \"decision_tree\": [DecisionTreeClassifier, {\"decisiontreeclassifier__criterion\": [\"gini\", \"entropy\", \"log_loss\"], \"decisiontreeclassifier__max_features\": range(1, 10, 1), \"decisiontreeclassifier__max_depth\": range(1, 10, 1)}],\n",
    "              \"random_forest\": [RandomForestClassifier, {\"randomforestclassifier__n_estimators\": range(1, 10, 5), \"randomforestclassifier__criterion\": [\"gini\", \"entropy\"], \"randomforestclassifier__max_depth\" : range(1,20,1)}],\n",
    "              \"gbayes\": [GaussianNB, {}],\n",
    "              \"cbayes\": [CategoricalNB, {'categoricalnb__alpha': [0.1, 0.5, 1.0]}]\n",
    "              }\n",
    "    \n",
    "    # Filtrer les features corrélées avec un seuil de 0.9\n",
    "    colonnes_non_correlees = filter_correlated_features(X)\n",
    "    X_non_correlees = X.loc[:, colonnes_non_correlees]\n",
    "    feature_names = X_non_correlees.columns\n",
    "\n",
    "    importances = importance(X_non_correlees, y, feature_names)  \n",
    "    print(\"Variables selon leur importance :\")\n",
    "    for i in range(X_non_correlees.shape[1]):\n",
    "        print(f\"{i+1}. {feature_names[i]}: {importances[i]}\")\n",
    "\n",
    "    # Afficher l'arbre de décision\n",
    "    g = sns.barplot(x=list(range(len(importances))), y=importances)\n",
    "    g.set_xticks(range(len(feature_names)))\n",
    "    g.set_xticklabels(feature_names, rotation=90, fontsize=8)  \n",
    "    mask = importances > seuil\n",
    "    sub_X = X_non_correlees.loc[:, mask]\n",
    "\n",
    "    feature_names = sub_X.columns\n",
    "    X_best_features = X[feature_names]\n",
    "\n",
    "    # Sélection des features numériques et catégorielles\n",
    "    numerical_features = make_column_selector(dtype_include=np.number)\n",
    "    categorical_features = make_column_selector(dtype_exclude=np.number)\n",
    "\n",
    "    # Création des pipelines pour le prétraitement\n",
    "    numerical_pipeline = make_pipeline(SimpleImputer(strategy='mean'), StandardScaler())\n",
    "    categorical_pipeline = make_pipeline(SimpleImputer(strategy='most_frequent'), OneHotEncoder(handle_unknown='ignore'))\n",
    "\n",
    "    # Création du préprocesseur en combinant les pipelines numériques et catégoriels\n",
    "    preprocessor = make_column_transformer((numerical_pipeline, numerical_features),\n",
    "                                           (categorical_pipeline, categorical_features))\n",
    "\n",
    "    # Pipeline complet avec le préprocesseur et le classificateur\n",
    "    if nom_modele =='logisticregression':\n",
    "        pipeline = make_pipeline(preprocessor, LogisticRegression(max_iter=5000, solver=\"liblinear\"))\n",
    "    else:\n",
    "        pipeline = make_pipeline(preprocessor, modele[nom_modele][0]())\n",
    "\n",
    "    grid_search_cv = GridSearchCV(estimator=pipeline, param_grid=modele[nom_modele][1], cv=5, n_jobs=-1)\n",
    "    grid_search_cv.fit(X_best_features, y)\n",
    "    best_params = {k.split(\"__\")[-1]: v for k, v in grid_search_cv.best_params_.items()}\n",
    "    print(f\"Best score: {grid_search_cv.best_score_}\")\n",
    "    print(f\"For parameters: {best_params}\")\n",
    "\n",
    "    print(f\"Shape final = : {X_best_features.shape}\")\n",
    "    # Diviser les données en ensembles d'entraînement et de test\n",
    "    X_train, X_test, y_train, y_test = train_test_split(X_best_features, y,test_size=0.2, random_state=0)\n",
    "\n",
    "    if nom_modele == 'logisticregression':\n",
    "        model_optimized = make_pipeline(preprocessor, LogisticRegression(solver=\"liblinear\", max_iter=5000, **best_params))\n",
    "    else:\n",
    "        model_optimized = modele[nom_modele][0](**best_params)\n",
    "\n",
    "    model_optimized.fit(X_train, y_train)    \n",
    "    predictions= model_optimized.predict(X_test)\n",
    "    print(\"======= Results\")\n",
    "    print(classification_report(y_test, predictions))\n",
    "    return model_optimized"
   ]
  },
  {
   "cell_type": "code",
   "execution_count": 60,
   "metadata": {},
   "outputs": [
    {
     "name": "stdout",
     "output_type": "stream",
     "text": [
      "Colonnes supprimées et leurs corrélations:\n",
      "loc_y - lat : -0.9999999999999999\n",
      "lon - loc_x : 0.9999999999999978\n",
      "period - game_event_id : 0.9559138323562201\n",
      "playoffs - game_id : 0.9178980486423305\n",
      "game_date - season : 0.9952520155650469\n",
      "(25697, 17)\n",
      "Best parameters: {'criterion': 'gini', 'max_depth': 4, 'max_features': 9}\n",
      "Variables selon leur importance :\n",
      "1. action_type: 0.6525007037348947\n",
      "2. combined_shot_type: 0.30439309535707376\n",
      "3. game_event_id: 0.0\n",
      "4. game_id: 0.0016234515411456289\n",
      "5. lat: 0.0\n",
      "6. loc_x: 0.0\n",
      "7. season: 0.013085124721553073\n",
      "8. shot_distance: 0.02008585596666979\n",
      "9. shot_type: 0.0\n",
      "10. shot_zone_area: 0.007970844046140872\n",
      "11. shot_zone_basic: 0.0\n",
      "12. shot_zone_range: 0.0\n",
      "13. team_name: 0.0\n",
      "14. matchup: 0.0\n",
      "15. opponent: 0.0\n",
      "16. shot_id: 0.0003409246325222961\n",
      "17. temps_restant: 0.0\n",
      "Best score: 0.6802344094863192\n",
      "For parameters: {'criterion': 'gini', 'max_depth': 6, 'n_estimators': 6}\n",
      "Shape final = : (25697, 3)\n",
      "======= Results\n",
      "              precision    recall  f1-score   support\n",
      "\n",
      "         0.0       0.65      0.87      0.75      2866\n",
      "         1.0       0.72      0.42      0.53      2274\n",
      "\n",
      "    accuracy                           0.67      5140\n",
      "   macro avg       0.69      0.65      0.64      5140\n",
      "weighted avg       0.68      0.67      0.65      5140\n",
      "\n"
     ]
    },
    {
     "data": {
      "image/png": "[encoded data removed]",
      "text/plain": [
       "<Figure size 640x480 with 1 Axes>"
      ]
     },
     "metadata": {},
     "output_type": "display_data"
    }
   ],
   "source": [
    "model_optimized = apprentissage(\"random_forest\", X, y, feature_names, 0.02)"
   ]
  },
  {
   "cell_type": "code",
   "execution_count": 61,
   "metadata": {},
   "outputs": [
    {
     "name": "stdout",
     "output_type": "stream",
     "text": [
      "(5000, 3)\n"
     ]
    },
    {
     "name": "stderr",
     "output_type": "stream",
     "text": [
      "C:\\Users\\guilh\\AppData\\Local\\Temp\\ipykernel_18864\\4066402416.py:8: SettingWithCopyWarning: \n",
      "A value is trying to be set on a copy of a slice from a DataFrame.\n",
      "Try using .loc[row_indexer,col_indexer] = value instead\n",
      "\n",
      "See the caveats in the documentation: https://pandas.pydata.org/pandas-docs/stable/user_guide/indexing.html#returning-a-view-versus-a-copy\n",
      "  X[numerical_cols] = scaler.fit_transform(X[numerical_cols])\n",
      "C:\\Users\\guilh\\AppData\\Local\\Temp\\ipykernel_18864\\4066402416.py:13: SettingWithCopyWarning: \n",
      "A value is trying to be set on a copy of a slice from a DataFrame.\n",
      "Try using .loc[row_indexer,col_indexer] = value instead\n",
      "\n",
      "See the caveats in the documentation: https://pandas.pydata.org/pandas-docs/stable/user_guide/indexing.html#returning-a-view-versus-a-copy\n",
      "  X[col] = label_encoder.fit_transform(X[col])\n",
      "C:\\Users\\guilh\\AppData\\Local\\Temp\\ipykernel_18864\\4066402416.py:13: SettingWithCopyWarning: \n",
      "A value is trying to be set on a copy of a slice from a DataFrame.\n",
      "Try using .loc[row_indexer,col_indexer] = value instead\n",
      "\n",
      "See the caveats in the documentation: https://pandas.pydata.org/pandas-docs/stable/user_guide/indexing.html#returning-a-view-versus-a-copy\n",
      "  X[col] = label_encoder.fit_transform(X[col])\n"
     ]
    }
   ],
   "source": [
    "def generate_missing_shot_predictions(model_optimized, missing_shots_data, output_file):\n",
    "    \n",
    "    X_missing = process_label(missing_shots_data[[\"action_type\", \"combined_shot_type\", \"shot_distance\"]])\n",
    "    print(X_missing.shape)\n",
    "    \n",
    "    # Faire des prédictions de probabilité\n",
    "    missing_predictions = model_optimized.predict_proba(X_missing)[:, 1]  # Probabilité de tir réussi\n",
    "    \n",
    "    # Créer un DataFrame avec les id de tir et les prédictions de probabilité\n",
    "    result_df = pd.DataFrame({'shot_id': missing_shots_data['shot_id'], 'shot_made_flag': missing_predictions})\n",
    "    \n",
    "    # Sauvegarder le DataFrame dans un fichier CSV\n",
    "    result_df.to_csv(output_file, index=False)\n",
    "\n",
    "# Exemple d'utilisation :\n",
    "# Supposons que vous ayez un DataFrame nommé missing_shots_data contenant les données de tir manquant\n",
    "# et que vous avez déjà entraîné et optimisé votre modèle que vous avez nommé model_optimized\n",
    "\n",
    "# Remplacez 'output_predictions.csv' par le chemin et le nom de fichier souhaité pour le résultat CSV\n",
    "generate_missing_shot_predictions(model_optimized, missing_shots_data, '../Datasets/output_predictions.csv')\n"
   ]
  },
  {
   "cell_type": "code",
   "execution_count": null,
   "metadata": {},
   "outputs": [],
   "source": []
  }
 ],
 "metadata": {
  "kernelspec": {
   "display_name": "envguilhem",
   "language": "python",
   "name": "python3"
  },
  "language_info": {
   "codemirror_mode": {
    "name": "ipython",
    "version": 3
   },
   "file_extension": ".py",
   "mimetype": "text/x-python",
   "name": "python",
   "nbconvert_exporter": "python",
   "pygments_lexer": "ipython3",
   "version": "3.10.13"
  }
 },
 "nbformat": 4,
 "nbformat_minor": 2
}
