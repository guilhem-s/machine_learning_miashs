{
 "cells": [
  {
   "cell_type": "code",
   "execution_count": 1,
   "metadata": {},
   "outputs": [],
   "source": [
    "import pandas as pd\n",
    "import numpy as np\n",
    "import seaborn as sns\n",
    "import matplotlib.pyplot as plt\n",
    "from sklearn.impute import KNNImputer\n",
    "from sklearn.preprocessing import OneHotEncoder\n",
    "df = pd.read_csv(\"kobe.csv\")"
   ]
  },
  {
   "cell_type": "markdown",
   "metadata": {},
   "source": [
    "### Ce fichier reprend tous les codes déjà donnés par la prof. Donc pas grand chose de foufou en plus"
   ]
  },
  {
   "cell_type": "code",
   "execution_count": 4,
   "metadata": {},
   "outputs": [
    {
     "data": {
      "text/plain": [
       "Index(['action_type', 'combined_shot_type', 'game_event_id', 'game_id', 'lat',\n",
       "       'loc_x', 'loc_y', 'lon', 'minutes_remaining', 'period', 'playoffs',\n",
       "       'season', 'seconds_remaining', 'shot_distance', 'shot_made_flag',\n",
       "       'shot_type', 'shot_zone_area', 'shot_zone_basic', 'shot_zone_range',\n",
       "       'team_id', 'team_name', 'game_date', 'matchup', 'opponent', 'shot_id'],\n",
       "      dtype='object')"
      ]
     },
     "execution_count": 4,
     "metadata": {},
     "output_type": "execute_result"
    }
   ],
   "source": [
    "df.columns"
   ]
  },
  {
   "cell_type": "code",
   "execution_count": 5,
   "metadata": {},
   "outputs": [
    {
     "data": {
      "text/plain": [
       "<bound method NDFrame.head of              action_type combined_shot_type  game_event_id   game_id      lat  \\\n",
       "0              Jump Shot          Jump Shot             10  20000012  33.9723   \n",
       "1              Jump Shot          Jump Shot             12  20000012  34.0443   \n",
       "2              Jump Shot          Jump Shot             35  20000012  33.9093   \n",
       "3              Jump Shot          Jump Shot             43  20000012  33.8693   \n",
       "4      Driving Dunk Shot               Dunk            155  20000012  34.0443   \n",
       "...                  ...                ...            ...       ...      ...   \n",
       "30692          Jump Shot          Jump Shot            397  49900088  33.9963   \n",
       "30693           Tip Shot           Tip Shot            398  49900088  34.0443   \n",
       "30694  Running Jump Shot          Jump Shot            426  49900088  33.8783   \n",
       "30695          Jump Shot          Jump Shot            448  49900088  33.7773   \n",
       "30696          Jump Shot          Jump Shot            471  49900088  33.9723   \n",
       "\n",
       "       loc_x  loc_y       lon  minutes_remaining  period  ...       shot_type  \\\n",
       "0        167     72 -118.1028                 10       1  ...  2PT Field Goal   \n",
       "1       -157      0 -118.4268                 10       1  ...  2PT Field Goal   \n",
       "2       -101    135 -118.3708                  7       1  ...  2PT Field Goal   \n",
       "3        138    175 -118.1318                  6       1  ...  2PT Field Goal   \n",
       "4          0      0 -118.2698                  6       2  ...  2PT Field Goal   \n",
       "...      ...    ...       ...                ...     ...  ...             ...   \n",
       "30692      1     48 -118.2688                  6       4  ...  2PT Field Goal   \n",
       "30693      0      0 -118.2698                  6       4  ...  2PT Field Goal   \n",
       "30694   -134    166 -118.4038                  3       4  ...  2PT Field Goal   \n",
       "30695     31    267 -118.2388                  2       4  ...  3PT Field Goal   \n",
       "30696      1     72 -118.2688                  0       4  ...  2PT Field Goal   \n",
       "\n",
       "              shot_zone_area        shot_zone_basic  shot_zone_range  \\\n",
       "0              Right Side(R)              Mid-Range        16-24 ft.   \n",
       "1               Left Side(L)              Mid-Range         8-16 ft.   \n",
       "2       Left Side Center(LC)              Mid-Range        16-24 ft.   \n",
       "3      Right Side Center(RC)              Mid-Range        16-24 ft.   \n",
       "4                  Center(C)        Restricted Area  Less Than 8 ft.   \n",
       "...                      ...                    ...              ...   \n",
       "30692              Center(C)  In The Paint (Non-RA)  Less Than 8 ft.   \n",
       "30693              Center(C)        Restricted Area  Less Than 8 ft.   \n",
       "30694   Left Side Center(LC)              Mid-Range        16-24 ft.   \n",
       "30695              Center(C)      Above the Break 3          24+ ft.   \n",
       "30696              Center(C)  In The Paint (Non-RA)  Less Than 8 ft.   \n",
       "\n",
       "          team_id           team_name   game_date      matchup opponent  \\\n",
       "0      1610612747  Los Angeles Lakers  2000-10-31    LAL @ POR      POR   \n",
       "1      1610612747  Los Angeles Lakers  2000-10-31    LAL @ POR      POR   \n",
       "2      1610612747  Los Angeles Lakers  2000-10-31    LAL @ POR      POR   \n",
       "3      1610612747  Los Angeles Lakers  2000-10-31    LAL @ POR      POR   \n",
       "4      1610612747  Los Angeles Lakers  2000-10-31    LAL @ POR      POR   \n",
       "...           ...                 ...         ...          ...      ...   \n",
       "30692  1610612747  Los Angeles Lakers  2000-06-19  LAL vs. IND      IND   \n",
       "30693  1610612747  Los Angeles Lakers  2000-06-19  LAL vs. IND      IND   \n",
       "30694  1610612747  Los Angeles Lakers  2000-06-19  LAL vs. IND      IND   \n",
       "30695  1610612747  Los Angeles Lakers  2000-06-19  LAL vs. IND      IND   \n",
       "30696  1610612747  Los Angeles Lakers  2000-06-19  LAL vs. IND      IND   \n",
       "\n",
       "       shot_id  \n",
       "0            1  \n",
       "1            2  \n",
       "2            3  \n",
       "3            4  \n",
       "4            5  \n",
       "...        ...  \n",
       "30692    30693  \n",
       "30693    30694  \n",
       "30694    30695  \n",
       "30695    30696  \n",
       "30696    30697  \n",
       "\n",
       "[30697 rows x 25 columns]>"
      ]
     },
     "execution_count": 5,
     "metadata": {},
     "output_type": "execute_result"
    }
   ],
   "source": [
    "df.head"
   ]
  },
  {
   "cell_type": "code",
   "execution_count": 2,
   "metadata": {},
   "outputs": [],
   "source": [
    "qualitative_vars = [\"action_type\", \"combined_shot_type\", \"game_event_id\", \"game_id\", \n",
    "                    \"period\", \"playoffs\", \"season\", \"shot_type\",\n",
    "                    \"shot_zone_area\", \"shot_zone_basic\", \"shot_zone_range\", \"team_name\", \"game_date\", \"matchup\", \"opponent\"]\n",
    "quantitative_vars = [col for col in df.columns if col not in qualitative_vars + [\"shot_made_flag\", \"shot_id\", 'team_id']]  # garder le shot_id ? "
   ]
  },
  {
   "cell_type": "code",
   "execution_count": 3,
   "metadata": {},
   "outputs": [],
   "source": [
    "data = df.dropna()\n",
    "X_quanti = data[quantitative_vars].values\n",
    "X_quali = data[qualitative_vars].values\n",
    "y = data[\"shot_made_flag\"].values"
   ]
  },
  {
   "cell_type": "code",
   "execution_count": 8,
   "metadata": {},
   "outputs": [
    {
     "data": {
      "text/plain": [
       "array(['x0_Alley Oop Dunk Shot', 'x0_Alley Oop Layup shot',\n",
       "       'x0_Cutting Layup Shot', ..., 'x14_UTA', 'x14_VAN', 'x14_WAS'],\n",
       "      dtype=object)"
      ]
     },
     "execution_count": 8,
     "metadata": {},
     "output_type": "execute_result"
    }
   ],
   "source": [
    "one_hot_encoder = OneHotEncoder()\n",
    "one_hot_encoder.fit(X_quali)\n",
    "one_hot_encoded_X = one_hot_encoder.transform(X_quali)\n",
    "one_hot_encoded_X.toarray()\n",
    "one_hot_encoder.get_feature_names_out()"
   ]
  },
  {
   "cell_type": "code",
   "execution_count": 9,
   "metadata": {},
   "outputs": [
    {
     "data": {
      "text/plain": [
       "<25697x3952 sparse matrix of type '<class 'numpy.float64'>'\n",
       "\twith 385455 stored elements in Compressed Sparse Row format>"
      ]
     },
     "execution_count": 9,
     "metadata": {},
     "output_type": "execute_result"
    }
   ],
   "source": [
    "one_hot_encoded_X"
   ]
  },
  {
   "cell_type": "code",
   "execution_count": 7,
   "metadata": {},
   "outputs": [],
   "source": [
    "imputer = KNNImputer(n_neighbors=2, weights=\"uniform\")\n",
    "X =imputer.fit_transform(X)"
   ]
  },
  {
   "cell_type": "code",
   "execution_count": 8,
   "metadata": {},
   "outputs": [
    {
     "data": {
      "text/plain": [
       "5000"
      ]
     },
     "execution_count": 8,
     "metadata": {},
     "output_type": "execute_result"
    }
   ],
   "source": [
    "# Récupère dans un tableau toutes les valeurs cachées des shoots de kobe\n",
    "unknown = [ligne for ligne in df.values if np.isnan(ligne[df.columns.get_loc('shot_made_flag')])]\n",
    "len(unknown)"
   ]
  },
  {
   "cell_type": "markdown",
   "metadata": {},
   "source": [
    "L'intérêt de garder df est de faire une soustraction arithmétique pour pouvoir récupérer un dataset déjà split.\n",
    "A voir si on récupère les bonnes réponses plus tard."
   ]
  },
  {
   "cell_type": "code",
   "execution_count": 4,
   "metadata": {},
   "outputs": [],
   "source": [
    "\n",
    "from sklearn.dummy import DummyClassifier"
   ]
  },
  {
   "cell_type": "code",
   "execution_count": 5,
   "metadata": {},
   "outputs": [
    {
     "ename": "NameError",
     "evalue": "name 'X' is not defined",
     "output_type": "error",
     "traceback": [
      "\u001b[1;31m---------------------------------------------------------------------------\u001b[0m",
      "\u001b[1;31mNameError\u001b[0m                                 Traceback (most recent call last)",
      "Cell \u001b[1;32mIn[5], line 4\u001b[0m\n\u001b[0;32m      2\u001b[0m dummy_classifier \u001b[38;5;241m=\u001b[39m DummyClassifier(strategy\u001b[38;5;241m=\u001b[39m\u001b[38;5;124m\"\u001b[39m\u001b[38;5;124mconstant\u001b[39m\u001b[38;5;124m\"\u001b[39m, constant\u001b[38;5;241m=\u001b[39m\u001b[38;5;241m0\u001b[39m)\n\u001b[0;32m      3\u001b[0m \u001b[38;5;66;03m# I train it\u001b[39;00m\n\u001b[1;32m----> 4\u001b[0m dummy_classifier\u001b[38;5;241m.\u001b[39mfit(\u001b[43mX\u001b[49m, y)\n",
      "\u001b[1;31mNameError\u001b[0m: name 'X' is not defined"
     ]
    }
   ],
   "source": [
    "# I create an object of class DummyClassifier\n",
    "dummy_classifier = DummyClassifier(strategy=\"constant\", constant=0)\n",
    "# I train it\n",
    "dummy_classifier.fit(X, y)"
   ]
  },
  {
   "cell_type": "code",
   "execution_count": 11,
   "metadata": {},
   "outputs": [],
   "source": [
    "from sklearn.metrics import precision_score, recall_score, accuracy_score"
   ]
  },
  {
   "cell_type": "code",
   "execution_count": 12,
   "metadata": {},
   "outputs": [
    {
     "name": "stdout",
     "output_type": "stream",
     "text": [
      "========= Accuracy of our KNN ============\n",
      "0.9345059734599369\n"
     ]
    }
   ],
   "source": [
    "from sklearn.neighbors import KNeighborsClassifier\n",
    "\n",
    "neigh = KNeighborsClassifier(n_neighbors=1)\n",
    "neigh.fit(X, y)\n",
    "prediction = neigh.predict(X)\n",
    "accuracy = accuracy_score(y, prediction)\n",
    "print(\"========= Accuracy of our KNN ============\")\n",
    "print(accuracy)"
   ]
  },
  {
   "cell_type": "code",
   "execution_count": 52,
   "metadata": {},
   "outputs": [],
   "source": [
    "# Split intro 4 datasets: X_train, y_train, X_test, y_test, with a 70% / 30%\n",
    "from sklearn.model_selection import train_test_split\n",
    "X_train, X_test, y_train, y_test = train_test_split(X, y, test_size=0.3)"
   ]
  },
  {
   "cell_type": "code",
   "execution_count": 90,
   "metadata": {},
   "outputs": [
    {
     "name": "stdout",
     "output_type": "stream",
     "text": [
      "========= Accuracy of our KNN for K = 1 ============\n",
      "a = 0.5260740971357409, p = 0.45789839944328464, r = 0.4695807314897413\n",
      "========= Accuracy of our KNN for K = 3 ============\n",
      "a = 0.5340909090909091, p = 0.46506510177883736, r = 0.4524531668153434\n",
      "========= Accuracy of our KNN for K = 5 ============\n",
      "a = 0.5438978829389788, p = 0.47592977156881255, r = 0.44977698483496875\n",
      "========= Accuracy of our KNN for K = 7 ============\n",
      "a = 0.5541718555417185, p = 0.4879388115316729, r = 0.4438893844781445\n",
      "========= Accuracy of our KNN for K = 9 ============\n",
      "a = 0.5586083437110835, p = 0.49336283185840707, r = 0.4376449598572703\n"
     ]
    }
   ],
   "source": [
    "liste = [1, 3, 5, 7, 9]\n",
    "for i in liste:\n",
    "    neigh = KNeighborsClassifier(n_neighbors=i)\n",
    "    neigh.fit(X_train, y_train)\n",
    "    prediction = neigh.predict(X_test)\n",
    "    accuracy = accuracy_score(y_test, prediction)\n",
    "    precision = precision_score(y_test, prediction, zero_division=0)\n",
    "    recall = recall_score(y_test, prediction)\n",
    "    print(f\"========= Accuracy of our KNN for K = {i} ============\")\n",
    "    print(f\"a = {accuracy}, p = {precision}, r = {recall}\")"
   ]
  },
  {
   "cell_type": "markdown",
   "metadata": {},
   "source": [
    "## Cross Validation"
   ]
  },
  {
   "cell_type": "code",
   "execution_count": 83,
   "metadata": {},
   "outputs": [],
   "source": [
    "from sklearn.model_selection import cross_val_score, KFold"
   ]
  },
  {
   "cell_type": "code",
   "execution_count": 80,
   "metadata": {},
   "outputs": [
    {
     "name": "stderr",
     "output_type": "stream",
     "text": [
      "c:\\Users\\Guilem\\Documents\\GitHub\\miashs_introduction_ml\\.venv\\Lib\\site-packages\\sklearn\\metrics\\_classification.py:1509: UndefinedMetricWarning: Precision is ill-defined and being set to 0.0 due to no predicted samples. Use `zero_division` parameter to control this behavior.\n",
      "  _warn_prf(average, modifier, f\"{metric.capitalize()} is\", len(result))\n",
      "c:\\Users\\Guilem\\Documents\\GitHub\\miashs_introduction_ml\\.venv\\Lib\\site-packages\\sklearn\\metrics\\_classification.py:1509: UndefinedMetricWarning: Precision is ill-defined and being set to 0.0 due to no predicted samples. Use `zero_division` parameter to control this behavior.\n",
      "  _warn_prf(average, modifier, f\"{metric.capitalize()} is\", len(result))\n",
      "c:\\Users\\Guilem\\Documents\\GitHub\\miashs_introduction_ml\\.venv\\Lib\\site-packages\\sklearn\\metrics\\_classification.py:1509: UndefinedMetricWarning: Precision is ill-defined and being set to 0.0 due to no predicted samples. Use `zero_division` parameter to control this behavior.\n",
      "  _warn_prf(average, modifier, f\"{metric.capitalize()} is\", len(result))\n",
      "c:\\Users\\Guilem\\Documents\\GitHub\\miashs_introduction_ml\\.venv\\Lib\\site-packages\\sklearn\\metrics\\_classification.py:1509: UndefinedMetricWarning: Precision is ill-defined and being set to 0.0 due to no predicted samples. Use `zero_division` parameter to control this behavior.\n",
      "  _warn_prf(average, modifier, f\"{metric.capitalize()} is\", len(result))\n",
      "c:\\Users\\Guilem\\Documents\\GitHub\\miashs_introduction_ml\\.venv\\Lib\\site-packages\\sklearn\\metrics\\_classification.py:1509: UndefinedMetricWarning: Precision is ill-defined and being set to 0.0 due to no predicted samples. Use `zero_division` parameter to control this behavior.\n",
      "  _warn_prf(average, modifier, f\"{metric.capitalize()} is\", len(result))\n"
     ]
    }
   ],
   "source": [
    "cross_val_accuracy = cross_val_score(estimator=dummy_classifier, X=X, y=y, scoring=\"accuracy\")\n",
    "cross_val_precision = cross_val_score(estimator=dummy_classifier, X=X, y=y, scoring=\"precision\")"
   ]
  },
  {
   "cell_type": "code",
   "execution_count": 81,
   "metadata": {},
   "outputs": [
    {
     "name": "stdout",
     "output_type": "stream",
     "text": [
      "========================================\n",
      "=== Average accuracy: 0.5538389654757282\n",
      "=== Median accuracy: 0.5538042420704418\n",
      "========================================\n",
      "========================================\n",
      "=== Average precision: 0.0\n",
      "=== Median precision: 0.0\n",
      "========================================\n"
     ]
    }
   ],
   "source": [
    "print(\"========================================\")\n",
    "print(f\"=== Average accuracy: {np.mean(cross_val_accuracy)}\")\n",
    "print(f\"=== Median accuracy: {np.median(cross_val_accuracy)}\")\n",
    "print(\"========================================\")\n",
    "print(\"========================================\")\n",
    "\n",
    "print(f\"=== Average precision: {np.mean(cross_val_precision)}\")\n",
    "print(f\"=== Median precision: {np.median(cross_val_precision)}\")\n",
    "print(\"========================================\")"
   ]
  },
  {
   "cell_type": "code",
   "execution_count": 91,
   "metadata": {},
   "outputs": [
    {
     "name": "stdout",
     "output_type": "stream",
     "text": [
      "========= Accuracy of our KNN for K = 1 ============\n",
      "a = 0.5323371468596778, p = 0.48676496713448214, r = 0.46757679180887374\n",
      "========= Accuracy of our KNN for K = 3 ============\n",
      "a = 0.5379406957739902, p = 0.49273995851404867, r = 0.44590443686006825\n",
      "========= Accuracy of our KNN for K = 5 ============\n",
      "a = 0.5433107634835396, p = 0.4992242048099302, r = 0.4392491467576792\n",
      "========= Accuracy of our KNN for K = 7 ============\n",
      "a = 0.5518717409915168, p = 0.5100790513833993, r = 0.44044368600682593\n",
      "========= Accuracy of our KNN for K = 9 ============\n",
      "a = 0.5555296131994708, p = 0.5152695224431236, r = 0.42901023890784984\n",
      "========= Accuracy of our KNN for K = 1001 ============\n",
      "a = 0.6004358315822242, p = 0.6094032549728752, r = 0.34505119453924915\n",
      "========= Accuracy of our KNN for K = 1 ============\n",
      "a = 0.5260740971357409, p = 0.45789839944328464, r = 0.4695807314897413\n",
      "========= Accuracy of our KNN for K = 3 ============\n",
      "a = 0.5340909090909091, p = 0.46506510177883736, r = 0.4524531668153434\n",
      "========= Accuracy of our KNN for K = 5 ============\n",
      "a = 0.5438978829389788, p = 0.47592977156881255, r = 0.44977698483496875\n",
      "========= Accuracy of our KNN for K = 7 ============\n",
      "a = 0.5541718555417185, p = 0.4879388115316729, r = 0.4438893844781445\n",
      "========= Accuracy of our KNN for K = 9 ============\n",
      "a = 0.5586083437110835, p = 0.49336283185840707, r = 0.4376449598572703\n",
      "========= Accuracy of our KNN for K = 1001 ============\n",
      "a = 0.611145703611457, p = 0.5962085308056873, r = 0.3366636931311329\n"
     ]
    }
   ],
   "source": [
    "liste = [1, 3, 5, 7, 9, 1001]\n",
    "kf = KFold(n_splits=2)\n",
    "kf.get_n_splits(X)\n",
    "for train_index, test_index in kf.split(X):\n",
    "     X_train, X_test = X[train_index], X[test_index]\n",
    "     y_train, y_test = y[train_index], y[test_index]\n",
    "     \n",
    "     for k in liste:\n",
    "          neigh = KNeighborsClassifier(n_neighbors=k)\n",
    "          neigh.fit(X_train, y_train)\n",
    "          prediction = neigh.predict(X_test)\n",
    "          accuracy = accuracy_score(y_test, prediction)\n",
    "          precision = precision_score(y_test, prediction, zero_division=0)\n",
    "          recall = recall_score(y_test, prediction)\n",
    "          print(f\"========= Accuracy of our KNN for K = {k} ============\")\n",
    "          print(f\"a = {accuracy}, p = {precision}, r = {recall}\")"
   ]
  },
  {
   "cell_type": "markdown",
   "metadata": {},
   "source": [
    "## Essai selon plan de la prof"
   ]
  },
  {
   "cell_type": "code",
   "execution_count": 8,
   "metadata": {},
   "outputs": [],
   "source": [
    "from sklearn.preprocessing import OneHotEncoder\n",
    "\n",
    "# On transforme les variables qualitatives en dummy (numérique)\n",
    "one_hot_encoder = OneHotEncoder()\n",
    "X_qualitative_dummy = one_hot_encoder.fit_transform(X_quali)\n",
    "X_all = np.concatenate([X_quanti, X_qualitative_dummy.toarray()], axis=1)\n",
    "\n",
    "# On part sur un KNNImputer, car nous avons montré dans la partie 2 que celui-ci est relativement\n",
    "# efficace \n",
    "# On prend k=1 car nous avons des variables qualitatives\n",
    "\n",
    "from sklearn.impute import KNNImputer\n",
    "\n",
    "knn_imputer = KNNImputer(n_neighbors=1)\n",
    "X_all_imputed = knn_imputer.fit_transform(X_all)\n",
    "\n",
    "# Regarder les valeurs aberrantes grâce à mes boxplots"
   ]
  },
  {
   "cell_type": "code",
   "execution_count": 9,
   "metadata": {},
   "outputs": [
    {
     "data": {
      "image/png": "[encoded data removed]",
      "text/plain": [
       "<Figure size 640x480 with 1 Axes>"
      ]
     },
     "metadata": {},
     "output_type": "display_data"
    },
    {
     "data": {
      "image/png": "[encoded data removed]",
      "text/plain": [
       "<Figure size 640x480 with 1 Axes>"
      ]
     },
     "metadata": {},
     "output_type": "display_data"
    },
    {
     "data": {
      "image/png": "[encoded data removed]",
      "text/plain": [
       "<Figure size 640x480 with 1 Axes>"
      ]
     },
     "metadata": {},
     "output_type": "display_data"
    },
    {
     "data": {
      "image/png": "[encoded data removed]",
      "text/plain": [
       "<Figure size 640x480 with 1 Axes>"
      ]
     },
     "metadata": {},
     "output_type": "display_data"
    },
    {
     "data": {
      "image/png": "[encoded data removed]",
      "text/plain": [
       "<Figure size 640x480 with 1 Axes>"
      ]
     },
     "metadata": {},
     "output_type": "display_data"
    },
    {
     "data": {
      "image/png": "[encoded data removed]",
      "text/plain": [
       "<Figure size 640x480 with 1 Axes>"
      ]
     },
     "metadata": {},
     "output_type": "display_data"
    },
    {
     "data": {
      "image/png": "[encoded data removed]",
      "text/plain": [
       "<Figure size 640x480 with 1 Axes>"
      ]
     },
     "metadata": {},
     "output_type": "display_data"
    }
   ],
   "source": [
    "for X_val in X_quanti.T:\n",
    "    sns.boxplot(X_val)\n",
    "    plt.show()\n",
    "    \n",
    "# Après l'examen des boxplots, je ne vois pas de valeur aberrantes: il y a certes des passagers beaucoup plus âgés que \n",
    "# la répartition médiane, mais cela est porteur de sens pour la classification.\n",
    "# Idem pour le prix des billets: il n'est pas choquant qu'un bateau de luxe offre des billets extrêmement chers\n",
    "# et certains beaucoup moins."
   ]
  },
  {
   "cell_type": "code",
   "execution_count": 10,
   "metadata": {},
   "outputs": [],
   "source": [
    "X_preprocessed = X_all_imputed"
   ]
  },
  {
   "cell_type": "code",
   "execution_count": 1,
   "metadata": {},
   "outputs": [],
   "source": [
    "from sklearn.model_selection import cross_val_score, KFold\n",
    "from sklearn.neighbors import KNeighborsClassifier"
   ]
  },
  {
   "cell_type": "code",
   "execution_count": 11,
   "metadata": {},
   "outputs": [
    {
     "name": "stdout",
     "output_type": "stream",
     "text": [
      "k = 1\n",
      "Model score: 54.92%\n",
      "k = 3\n",
      "Model score: 56.26%\n",
      "k = 5\n",
      "Model score: 57.14%\n",
      "k = 7\n",
      "Model score: 57.47%\n",
      "k = 9\n",
      "Model score: 57.5%\n",
      "k = 11\n"
     ]
    }
   ],
   "source": [
    "# Sans scaling\n",
    "for k in range(1, 30, 2):\n",
    "    print(f\"k = {k}\")\n",
    "    knn_classifier = KNeighborsClassifier(n_neighbors=k, p=1)\n",
    "    scores = cross_val_score(estimator=knn_classifier, X=X_preprocessed, y=y, scoring=\"accuracy\")\n",
    "    print(f\"Model score: {round(np.median(scores)*100, 2)}%\")"
   ]
  },
  {
   "cell_type": "code",
   "execution_count": null,
   "metadata": {},
   "outputs": [],
   "source": []
  }
 ],
 "metadata": {
  "kernelspec": {
   "display_name": ".venv",
   "language": "python",
   "name": "python3"
  },
  "language_info": {
   "codemirror_mode": {
    "name": "ipython",
    "version": 3
   },
   "file_extension": ".py",
   "mimetype": "text/x-python",
   "name": "python",
   "nbconvert_exporter": "python",
   "pygments_lexer": "ipython3",
   "version": "3.10.13"
  }
 },
 "nbformat": 4,
 "nbformat_minor": 2
}
